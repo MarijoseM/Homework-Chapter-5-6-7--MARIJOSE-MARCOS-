{
 "cells": [
  {
   "cell_type": "code",
   "execution_count": null,
   "id": "9384ea5a",
   "metadata": {},
   "outputs": [],
   "source": [
    "#EXERCISE 3\n",
    "\n",
    "#A)It is implemented by dividing observations into groups of equal size. The first is treated as a validation set, \n",
    "#and the second is fit on the remaining k − 1.\n",
    "\n",
    "#B) \n",
    "#i) Adv: Easy computational implementation\n",
    "#Disad: Difficulties to fir the model due to overestimation\n",
    "\n",
    "#ii) Adv: Can be more accurate\n",
    "#Disad: Slower than the validation set approach"
   ]
  },
  {
   "cell_type": "code",
   "execution_count": 1,
   "id": "108ab466",
   "metadata": {},
   "outputs": [],
   "source": [
    "#EXERCISE 8\n",
    "#A\n",
    "set.seed(1)\n",
    "x <- rnorm(100)\n",
    "y <- x-2*x^2+rnorm(100)\n",
    "# IN THIS CASE n=100 and p=2 "
   ]
  },
  {
   "cell_type": "code",
   "execution_count": 2,
   "id": "38b7fa3e",
   "metadata": {},
   "outputs": [
    {
     "data": {
      "image/png": "[encoded data removed]",
      "text/plain": [
       "plot without title"
      ]
     },
     "metadata": {},
     "output_type": "display_data"
    }
   ],
   "source": [
    "#B\n",
    "plot(x,y)\n",
    "#the plot shows a parabolic relationship between x and y\n"
   ]
  },
  {
   "cell_type": "code",
   "execution_count": 3,
   "id": "ffcb86b3",
   "metadata": {},
   "outputs": [],
   "source": [
    "#C\n",
    "set.seed(123)\n",
    "library(boot)\n",
    "dataframe <- data.frame(x, y)"
   ]
  },
  {
   "cell_type": "code",
   "execution_count": 4,
   "id": "779cc250",
   "metadata": {},
   "outputs": [
    {
     "data": {
      "text/html": [
       "7.28816160667281"
      ],
      "text/latex": [
       "7.28816160667281"
      ],
      "text/markdown": [
       "7.28816160667281"
      ],
      "text/plain": [
       "[1] 7.288162"
      ]
     },
     "metadata": {},
     "output_type": "display_data"
    }
   ],
   "source": [
    "glm <- glm(y ~ x)\n",
    "cv <- cv.glm(dataframe, glm)$delta[1]\n",
    "cv"
   ]
  },
  {
   "cell_type": "code",
   "execution_count": 5,
   "id": "a6625a07",
   "metadata": {},
   "outputs": [
    {
     "data": {
      "text/html": [
       "0.937423637615552"
      ],
      "text/latex": [
       "0.937423637615552"
      ],
      "text/markdown": [
       "0.937423637615552"
      ],
      "text/plain": [
       "[1] 0.9374236"
      ]
     },
     "metadata": {},
     "output_type": "display_data"
    }
   ],
   "source": [
    "glm0 <- glm(y ~ poly(x,2))\n",
    "cv0 <- cv.glm(dataframe, glm0)$delta[1]\n",
    "cv0"
   ]
  },
  {
   "cell_type": "code",
   "execution_count": 6,
   "id": "2a4ae90b",
   "metadata": {},
   "outputs": [
    {
     "data": {
      "text/html": [
       "0.956621830108939"
      ],
      "text/latex": [
       "0.956621830108939"
      ],
      "text/markdown": [
       "0.956621830108939"
      ],
      "text/plain": [
       "[1] 0.9566218"
      ]
     },
     "metadata": {},
     "output_type": "display_data"
    }
   ],
   "source": [
    "glm1 <- glm(y ~ poly(x,3))\n",
    "cv1 <- cv.glm(dataframe, glm1)$delta[1]\n",
    "cv1"
   ]
  },
  {
   "cell_type": "code",
   "execution_count": 7,
   "id": "147a04d1",
   "metadata": {},
   "outputs": [
    {
     "data": {
      "text/html": [
       "0.953904892744804"
      ],
      "text/latex": [
       "0.953904892744804"
      ],
      "text/markdown": [
       "0.953904892744804"
      ],
      "text/plain": [
       "[1] 0.9539049"
      ]
     },
     "metadata": {},
     "output_type": "display_data"
    }
   ],
   "source": [
    "glm2 <- glm(y ~ poly(x,4))\n",
    "cv2 <- cv.glm(dataframe, glm2)$delta[1]\n",
    "cv2"
   ]
  },
  {
   "cell_type": "code",
   "execution_count": 10,
   "id": "4b0104fb",
   "metadata": {},
   "outputs": [],
   "source": [
    "#D USE DIFFERENT SEED AND SEE DIFFERENCES\n",
    "set.seed(121)\n",
    "library(boot)\n",
    "dataframe <- data.frame(x, y)"
   ]
  },
  {
   "cell_type": "code",
   "execution_count": 11,
   "id": "129fc06f",
   "metadata": {},
   "outputs": [
    {
     "data": {
      "text/html": [
       "7.28816160667281"
      ],
      "text/latex": [
       "7.28816160667281"
      ],
      "text/markdown": [
       "7.28816160667281"
      ],
      "text/plain": [
       "[1] 7.288162"
      ]
     },
     "metadata": {},
     "output_type": "display_data"
    },
    {
     "data": {
      "text/html": [
       "0.937423637615552"
      ],
      "text/latex": [
       "0.937423637615552"
      ],
      "text/markdown": [
       "0.937423637615552"
      ],
      "text/plain": [
       "[1] 0.9374236"
      ]
     },
     "metadata": {},
     "output_type": "display_data"
    },
    {
     "data": {
      "text/html": [
       "0.956621830108939"
      ],
      "text/latex": [
       "0.956621830108939"
      ],
      "text/markdown": [
       "0.956621830108939"
      ],
      "text/plain": [
       "[1] 0.9566218"
      ]
     },
     "metadata": {},
     "output_type": "display_data"
    },
    {
     "data": {
      "text/html": [
       "0.953904892744804"
      ],
      "text/latex": [
       "0.953904892744804"
      ],
      "text/markdown": [
       "0.953904892744804"
      ],
      "text/plain": [
       "[1] 0.9539049"
      ]
     },
     "metadata": {},
     "output_type": "display_data"
    }
   ],
   "source": [
    "glm <- glm(y ~ x)\n",
    "cv <- cv.glm(dataframe, glm)$delta[1]\n",
    "cv\n",
    "\n",
    "glm0 <- glm(y ~ poly(x,2))\n",
    "cv0 <- cv.glm(dataframe, glm0)$delta[1]\n",
    "cv0\n",
    "\n",
    "glm1 <- glm(y ~ poly(x,3))\n",
    "cv1 <- cv.glm(dataframe, glm1)$delta[1]\n",
    "cv1\n",
    "\n",
    "glm2 <- glm(y ~ poly(x,4))\n",
    "cv2 <- cv.glm(dataframe, glm2)$delta[1]\n",
    "cv2"
   ]
  },
  {
   "cell_type": "code",
   "execution_count": null,
   "id": "53ce3794",
   "metadata": {},
   "outputs": [],
   "source": [
    "#E\n",
    "#GLM0 had the smallest LOCCV in both part C and D"
   ]
  },
  {
   "cell_type": "code",
   "execution_count": 12,
   "id": "ed1903a0",
   "metadata": {},
   "outputs": [
    {
     "data": {
      "text/plain": [
       "\n",
       "Call:\n",
       "glm(formula = y ~ poly(x, 4))\n",
       "\n",
       "Deviance Residuals: \n",
       "    Min       1Q   Median       3Q      Max  \n",
       "-2.0550  -0.6212  -0.1567   0.5952   2.2267  \n",
       "\n",
       "Coefficients:\n",
       "             Estimate Std. Error t value Pr(>|t|)    \n",
       "(Intercept)  -1.55002    0.09591 -16.162  < 2e-16 ***\n",
       "poly(x, 4)1   6.18883    0.95905   6.453 4.59e-09 ***\n",
       "poly(x, 4)2 -23.94830    0.95905 -24.971  < 2e-16 ***\n",
       "poly(x, 4)3   0.26411    0.95905   0.275    0.784    \n",
       "poly(x, 4)4   1.25710    0.95905   1.311    0.193    \n",
       "---\n",
       "Signif. codes:  0 '***' 0.001 '**' 0.01 '*' 0.05 '.' 0.1 ' ' 1\n",
       "\n",
       "(Dispersion parameter for gaussian family taken to be 0.9197797)\n",
       "\n",
       "    Null deviance: 700.852  on 99  degrees of freedom\n",
       "Residual deviance:  87.379  on 95  degrees of freedom\n",
       "AIC: 282.3\n",
       "\n",
       "Number of Fisher Scoring iterations: 2\n"
      ]
     },
     "metadata": {},
     "output_type": "display_data"
    }
   ],
   "source": [
    "#F\n",
    "summary(glm2)"
   ]
  },
  {
   "cell_type": "code",
   "execution_count": 13,
   "id": "d447f0ad",
   "metadata": {},
   "outputs": [],
   "source": [
    "#CHAPTER 6, EX1\n",
    "\n",
    "library(ISLR)\n",
    "data(College)\n",
    "set.seed(123)\n"
   ]
  },
  {
   "cell_type": "code",
   "execution_count": 14,
   "id": "683e810d",
   "metadata": {},
   "outputs": [],
   "source": [
    "#A\n",
    "data <- sample(1:nrow(College), nrow(College)/2)\n",
    "train <- College[data,]\n",
    "test <- College[-data,]"
   ]
  },
  {
   "cell_type": "code",
   "execution_count": 15,
   "id": "c6444018",
   "metadata": {},
   "outputs": [
    {
     "data": {
      "text/html": [
       "1373994.68331753"
      ],
      "text/latex": [
       "1373994.68331753"
      ],
      "text/markdown": [
       "1373994.68331753"
      ],
      "text/plain": [
       "[1] 1373995"
      ]
     },
     "metadata": {},
     "output_type": "display_data"
    }
   ],
   "source": [
    "#B\n",
    "lm <- lm(Apps ~ ., data = train)\n",
    "lm_p <- predict(lm, test)\n",
    "lm_e <- mean((test$Apps - lm_p)^2)\n",
    "lm_e"
   ]
  },
  {
   "cell_type": "code",
   "execution_count": 16,
   "id": "e7227160",
   "metadata": {},
   "outputs": [
    {
     "name": "stderr",
     "output_type": "stream",
     "text": [
      "Loading required package: Matrix\n",
      "Loading required package: foreach\n",
      "Loaded glmnet 2.0-16\n",
      "\n"
     ]
    }
   ],
   "source": [
    "#C\n",
    "library(glmnet)\n",
    "\n",
    "train_ <- model.matrix(Apps ~ ., data = train)\n",
    "train_ <- train[, \"Apps\"]\n",
    "test_ <- model.matrix(Apps ~ ., data = test)\n",
    "test_ <- test[, \"Apps\"]\n",
    "\n"
   ]
  },
  {
   "cell_type": "code",
   "execution_count": 19,
   "id": "9b09c10a",
   "metadata": {},
   "outputs": [
    {
     "ename": "ERROR",
     "evalue": "Error in if (is.null(np) | (np[2] <= 1)) stop(\"x should be a matrix with 2 or more columns\"): argument is of length zero\n",
     "output_type": "error",
     "traceback": [
      "Error in if (is.null(np) | (np[2] <= 1)) stop(\"x should be a matrix with 2 or more columns\"): argument is of length zero\nTraceback:\n",
      "1. glmnet(train_, train_, alpha = 1, lambda = g, thresh = 1e-12)"
     ]
    }
   ],
   "source": [
    "#D\n",
    "l <- glmnet(train_, train_, alpha = 1, lambda = g, thresh = 1e-12)\n",
    "la <- cv.glmnet(train_, train_, alpha = 1, lambda = g, thresh = 1e-12)\n",
    "lambda <- la.cv$lambda.min"
   ]
  },
  {
   "cell_type": "code",
   "execution_count": 23,
   "id": "9944a3c9",
   "metadata": {},
   "outputs": [
    {
     "name": "stdout",
     "output_type": "stream",
     "text": [
      "\n",
      "  There is a binary version available but the source version is later:\n",
      "    binary source needs_compilation\n",
      "pls  2.7-3  2.8-0             FALSE\n",
      "\n"
     ]
    },
    {
     "name": "stderr",
     "output_type": "stream",
     "text": [
      "installing the source package 'pls'\n",
      "\n"
     ]
    },
    {
     "data": {
      "image/png": "[encoded data removed]",
      "text/plain": [
       "Plot with title \"Apps\""
      ]
     },
     "metadata": {},
     "output_type": "display_data"
    }
   ],
   "source": [
    "#E\n",
    "install.packages(\"pls\")\n",
    "library(pls)\n",
    "\n",
    "fit <- pcr(Apps ~ ., data = train, scale = TRUE, validation = \"CV\")\n",
    "validationplot(fit, val.type=\"MSEP\")"
   ]
  },
  {
   "cell_type": "code",
   "execution_count": 25,
   "id": "f52f56d4",
   "metadata": {},
   "outputs": [
    {
     "data": {
      "image/png": "[encoded data removed]",
      "text/plain": [
       "Plot with title \"Apps\""
      ]
     },
     "metadata": {},
     "output_type": "display_data"
    }
   ],
   "source": [
    "#F\n",
    "fit <- plsr(Apps ~ ., data = train, scale = TRUE, validation = \"CV\")\n",
    "validationplot(fit, val.type = \"MSEP\")"
   ]
  },
  {
   "cell_type": "code",
   "execution_count": 29,
   "id": "15edfe4a",
   "metadata": {},
   "outputs": [],
   "source": [
    "#G\n",
    "t <- mean(test$Apps)\n"
   ]
  },
  {
   "cell_type": "code",
   "execution_count": 30,
   "id": "fbd40000",
   "metadata": {},
   "outputs": [
    {
     "name": "stderr",
     "output_type": "stream",
     "text": [
      "Warning message:\n",
      "\"package 'MASS' was built under R version 3.6.3\""
     ]
    },
    {
     "data": {
      "text/plain": [
       "\n",
       "Call:\n",
       "lm(formula = nox ~ poly(dis, 3), data = Boston)\n",
       "\n",
       "Residuals:\n",
       "      Min        1Q    Median        3Q       Max \n",
       "-0.121130 -0.040619 -0.009738  0.023385  0.194904 \n",
       "\n",
       "Coefficients:\n",
       "               Estimate Std. Error t value Pr(>|t|)    \n",
       "(Intercept)    0.554695   0.002759 201.021  < 2e-16 ***\n",
       "poly(dis, 3)1 -2.003096   0.062071 -32.271  < 2e-16 ***\n",
       "poly(dis, 3)2  0.856330   0.062071  13.796  < 2e-16 ***\n",
       "poly(dis, 3)3 -0.318049   0.062071  -5.124 4.27e-07 ***\n",
       "---\n",
       "Signif. codes:  0 '***' 0.001 '**' 0.01 '*' 0.05 '.' 0.1 ' ' 1\n",
       "\n",
       "Residual standard error: 0.06207 on 502 degrees of freedom\n",
       "Multiple R-squared:  0.7148,\tAdjusted R-squared:  0.7131 \n",
       "F-statistic: 419.3 on 3 and 502 DF,  p-value: < 2.2e-16\n"
      ]
     },
     "metadata": {},
     "output_type": "display_data"
    }
   ],
   "source": [
    "#Chapter 7, Exercise 9\n",
    "#A\n",
    "library(MASS)\n",
    "data(Boston)\n",
    "\n",
    "f <- lm(nox ~ poly(dis, 3), data = Boston)\n",
    "summary(f)\n",
    "\n",
    "#B\n"
   ]
  },
  {
   "cell_type": "code",
   "execution_count": 33,
   "id": "41512a36",
   "metadata": {},
   "outputs": [
    {
     "name": "stderr",
     "output_type": "stream",
     "text": [
      "Warning message:\n",
      "\"package 'leaps' is in use and will not be installed\""
     ]
    },
    {
     "data": {
      "text/plain": [
       "Subset selection object\n",
       "Call: regsubsets.formula(Outstate ~ ., data = train, method = \"forward\")\n",
       "17 Variables  (and intercept)\n",
       "            Forced in Forced out\n",
       "PrivateYes      FALSE      FALSE\n",
       "Apps            FALSE      FALSE\n",
       "Accept          FALSE      FALSE\n",
       "Enroll          FALSE      FALSE\n",
       "Top10perc       FALSE      FALSE\n",
       "Top25perc       FALSE      FALSE\n",
       "F.Undergrad     FALSE      FALSE\n",
       "P.Undergrad     FALSE      FALSE\n",
       "Room.Board      FALSE      FALSE\n",
       "Books           FALSE      FALSE\n",
       "Personal        FALSE      FALSE\n",
       "PhD             FALSE      FALSE\n",
       "Terminal        FALSE      FALSE\n",
       "S.F.Ratio       FALSE      FALSE\n",
       "perc.alumni     FALSE      FALSE\n",
       "Expend          FALSE      FALSE\n",
       "Grad.Rate       FALSE      FALSE\n",
       "1 subsets of each size up to 8\n",
       "Selection Algorithm: forward\n",
       "         PrivateYes Apps Accept Enroll Top10perc Top25perc F.Undergrad\n",
       "1  ( 1 ) \" \"        \" \"  \" \"    \" \"    \" \"       \" \"       \" \"        \n",
       "2  ( 1 ) \" \"        \" \"  \" \"    \" \"    \" \"       \" \"       \" \"        \n",
       "3  ( 1 ) \" \"        \" \"  \" \"    \" \"    \" \"       \" \"       \" \"        \n",
       "4  ( 1 ) \"*\"        \" \"  \" \"    \" \"    \" \"       \" \"       \" \"        \n",
       "5  ( 1 ) \"*\"        \" \"  \" \"    \" \"    \" \"       \" \"       \" \"        \n",
       "6  ( 1 ) \"*\"        \" \"  \" \"    \" \"    \" \"       \" \"       \" \"        \n",
       "7  ( 1 ) \"*\"        \" \"  \" \"    \" \"    \" \"       \" \"       \" \"        \n",
       "8  ( 1 ) \"*\"        \" \"  \"*\"    \" \"    \" \"       \" \"       \" \"        \n",
       "         P.Undergrad Room.Board Books Personal PhD Terminal S.F.Ratio\n",
       "1  ( 1 ) \" \"         \"*\"        \" \"   \" \"      \" \" \" \"      \" \"      \n",
       "2  ( 1 ) \" \"         \"*\"        \" \"   \" \"      \" \" \" \"      \" \"      \n",
       "3  ( 1 ) \" \"         \"*\"        \" \"   \" \"      \" \" \" \"      \" \"      \n",
       "4  ( 1 ) \" \"         \"*\"        \" \"   \" \"      \" \" \" \"      \" \"      \n",
       "5  ( 1 ) \" \"         \"*\"        \" \"   \" \"      \" \" \"*\"      \" \"      \n",
       "6  ( 1 ) \" \"         \"*\"        \" \"   \" \"      \" \" \"*\"      \" \"      \n",
       "7  ( 1 ) \" \"         \"*\"        \" \"   \"*\"      \" \" \"*\"      \" \"      \n",
       "8  ( 1 ) \" \"         \"*\"        \" \"   \"*\"      \" \" \"*\"      \" \"      \n",
       "         perc.alumni Expend Grad.Rate\n",
       "1  ( 1 ) \" \"         \" \"    \" \"      \n",
       "2  ( 1 ) \"*\"         \" \"    \" \"      \n",
       "3  ( 1 ) \"*\"         \"*\"    \" \"      \n",
       "4  ( 1 ) \"*\"         \"*\"    \" \"      \n",
       "5  ( 1 ) \"*\"         \"*\"    \" \"      \n",
       "6  ( 1 ) \"*\"         \"*\"    \"*\"      \n",
       "7  ( 1 ) \"*\"         \"*\"    \"*\"      \n",
       "8  ( 1 ) \"*\"         \"*\"    \"*\"      "
      ]
     },
     "metadata": {},
     "output_type": "display_data"
    }
   ],
   "source": [
    "#Chapter 7, Exercise 10\n",
    "#A (Chapter 6, Ex 1)\n",
    "\n",
    "install.packages(\"leaps\")\n",
    "library(leaps)\n",
    "library(ISLR)\n",
    "data <- sample(1:nrow(College), nrow(College)/2)\n",
    "train <- College[data,]\n",
    "test <- College[-data,]\n",
    "fit <- regsubsets(Outstate ~ ., data = train, method = 'forward')\n",
    "fit1 <- summary(fit)\n",
    "fit1"
   ]
  },
  {
   "cell_type": "code",
   "execution_count": 37,
   "id": "35368401",
   "metadata": {},
   "outputs": [
    {
     "name": "stdout",
     "output_type": "stream",
     "text": [
      "\n",
      "  There is a binary version available but the source version is later:\n",
      "    binary source needs_compilation\n",
      "gam 1.16.1   1.20              TRUE\n",
      "\n",
      "  Binaries will be installed\n"
     ]
    },
    {
     "name": "stderr",
     "output_type": "stream",
     "text": [
      "Warning message:\n",
      "\"package 'gam' is in use and will not be installed\"Warning message in model.matrix.default(mt, mf, contrasts):\n",
      "\"non-list contrasts argument ignored\""
     ]
    },
    {
     "data": {
      "image/png": "[encoded data removed]",
      "text/plain": [
       "plot without title"
      ]
     },
     "metadata": {},
     "output_type": "display_data"
    }
   ],
   "source": [
    "#B\n",
    "install.packages(\"gam\")\n",
    "library(gam)\n",
    "gam <- gam(Outstate ~ Private + s(Room.Board, 5) + s(perc.alumni, 5) + s(Expend, 5), data = train)\n",
    "par(mfrow = c(2,3))\n",
    "plot(gam, se = TRUE, col = 'blue')"
   ]
  },
  {
   "cell_type": "code",
   "execution_count": null,
   "id": "8420b564",
   "metadata": {},
   "outputs": [],
   "source": []
  }
 ],
 "metadata": {
  "kernelspec": {
   "display_name": "R",
   "language": "R",
   "name": "ir"
  },
  "language_info": {
   "codemirror_mode": "r",
   "file_extension": ".r",
   "mimetype": "text/x-r-source",
   "name": "R",
   "pygments_lexer": "r",
   "version": "3.6.1"
  }
 },
 "nbformat": 4,
 "nbformat_minor": 5
}
